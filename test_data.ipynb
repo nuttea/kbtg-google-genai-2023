{
 "cells": [
  {
   "cell_type": "markdown",
   "id": "34985bd9-0799-49f9-8c04-b1fab12b5a72",
   "metadata": {},
   "source": [
    "## Test Data\n",
    "\n",
    "Kbank Load Products ข้อมูลจาก web site\n",
    "\n",
    "Product List\n",
    "- สินเชื่อส่วนบุคคล K Pay Later\n",
    "- สินเชื่อเงินด่วนเพื่อธุรกิจ Xpress Loan (XPL) แบบผ่อนระยะยาวเพื่อธุรกิจ (Loan)\n",
    "- สินเชื่อเงินด่วนเพื่อธุรกิจ Xpress Loan (XPL) แบบใช้หมุนเวียนเพื่อธุรกิจ (OD)"
   ]
  },
  {
   "cell_type": "code",
   "execution_count": null,
   "id": "cb33ff0c-1f15-4b60-aeb6-45b7ff8fcdea",
   "metadata": {},
   "outputs": [],
   "source": [
    "# Install Vertex AI LLM SDK, langchain and dependencies\n",
    "! pip install google-cloud-aiplatform langchain==0.0.323 chromadb==0.3.26 pydantic==1.10.8 typing-inspect==0.8.0 typing_extensions==4.5.0 pandas datasets google-api-python-client pypdf faiss-cpu transformers config --upgrade --user"
   ]
  },
  {
   "cell_type": "code",
   "execution_count": 1,
   "id": "addc022c-66d6-40d4-8c7f-f9880caa6e8b",
   "metadata": {},
   "outputs": [
    {
     "name": "stdout",
     "output_type": "stream",
     "text": [
      "LangChain version: 0.0.323\n",
      "Vertex AI SDK version: 1.35.0\n"
     ]
    }
   ],
   "source": [
    "# Utils\n",
    "from langchain.schema import HumanMessage, SystemMessage\n",
    "from langchain.llms import VertexAI\n",
    "from langchain.embeddings import VertexAIEmbeddings\n",
    "from langchain.chat_models import ChatVertexAI\n",
    "from google.cloud import aiplatform\n",
    "import time\n",
    "from typing import List\n",
    "\n",
    "# LangChain\n",
    "import langchain\n",
    "from pydantic import BaseModel\n",
    "\n",
    "print(f\"LangChain version: {langchain.__version__}\")\n",
    "\n",
    "# Vertex AI\n",
    "\n",
    "print(f\"Vertex AI SDK version: {aiplatform.__version__}\")"
   ]
  },
  {
   "cell_type": "code",
   "execution_count": 2,
   "id": "fbe9b7d3-e9c6-42dd-8910-2f9f292ea53e",
   "metadata": {},
   "outputs": [],
   "source": [
    "# Utility functions for Embeddings API with rate limiting\n",
    "def rate_limit(max_per_minute):\n",
    "    period = 60 / max_per_minute\n",
    "    print(\"Waiting\")\n",
    "    while True:\n",
    "        before = time.time()\n",
    "        yield\n",
    "        after = time.time()\n",
    "        elapsed = after - before\n",
    "        sleep_time = max(0, period - elapsed)\n",
    "        if sleep_time > 0:\n",
    "            print(\".\", end=\"\")\n",
    "            time.sleep(sleep_time)\n",
    "\n",
    "\n",
    "class CustomVertexAIEmbeddings(VertexAIEmbeddings, BaseModel):\n",
    "    requests_per_minute: int\n",
    "    num_instances_per_batch: int\n",
    "\n",
    "    # Overriding embed_documents method\n",
    "    def embed_documents(self, texts: List[str]):\n",
    "        limiter = rate_limit(self.requests_per_minute)\n",
    "        results = []\n",
    "        docs = list(texts)\n",
    "\n",
    "        while docs:\n",
    "            # Working in batches because the API accepts maximum 5\n",
    "            # documents per request to get embeddings\n",
    "            head, docs = (\n",
    "                docs[: self.num_instances_per_batch],\n",
    "                docs[self.num_instances_per_batch :],\n",
    "            )\n",
    "            chunk = self.client.get_embeddings(head)\n",
    "            results.extend(chunk)\n",
    "            next(limiter)\n",
    "\n",
    "        return [r.values for r in results]"
   ]
  },
  {
   "cell_type": "code",
   "execution_count": 4,
   "id": "87b4e57d-1930-448e-b470-3e49240f02ff",
   "metadata": {},
   "outputs": [],
   "source": [
    "# LLM model\n",
    "llm = VertexAI(\n",
    "    model_name=\"text-bison@001\",\n",
    "    max_output_tokens=256,\n",
    "    temperature=0.1,\n",
    "    top_p=0.8,\n",
    "    top_k=40,\n",
    "    verbose=True,\n",
    ")\n",
    "\n",
    "# Chat\n",
    "chat = ChatVertexAI()\n",
    "\n",
    "# Embedding\n",
    "EMBEDDING_QPM = 100\n",
    "EMBEDDING_NUM_BATCH = 5\n",
    "embeddings = CustomVertexAIEmbeddings(\n",
    "    requests_per_minute=EMBEDDING_QPM,\n",
    "    num_instances_per_batch=EMBEDDING_NUM_BATCH,\n",
    ")"
   ]
  },
  {
   "cell_type": "markdown",
   "id": "ad4cbc9d-1f4c-435d-8074-1d8374d9bf4b",
   "metadata": {},
   "source": [
    "Simple test"
   ]
  },
  {
   "cell_type": "code",
   "execution_count": 5,
   "id": "75fdae52-645c-466d-aa6a-fe79047b48c9",
   "metadata": {},
   "outputs": [
    {
     "data": {
      "text/plain": [
       "'I am powered by PaLM 2, which stands for Pathways Language Model 2, a large language model from Google AI.'"
      ]
     },
     "execution_count": 5,
     "metadata": {},
     "output_type": "execute_result"
    }
   ],
   "source": [
    "llm(\"Hi, what is your name?\")"
   ]
  },
  {
   "cell_type": "markdown",
   "id": "70f59943-8b2b-4d68-8ac1-e1237329335a",
   "metadata": {},
   "source": [
    "## Example 1: Load CSV Data and search 1 item for the most matched with user query"
   ]
  },
  {
   "cell_type": "code",
   "execution_count": 6,
   "id": "0250235a-b031-4625-b128-187163fc69d2",
   "metadata": {},
   "outputs": [],
   "source": [
    "from langchain.document_loaders.csv_loader import CSVLoader"
   ]
  },
  {
   "cell_type": "code",
   "execution_count": 31,
   "id": "feb9eace-72e4-4be5-90fa-80ee0dcc3be8",
   "metadata": {},
   "outputs": [],
   "source": [
    "data = []"
   ]
  },
  {
   "cell_type": "code",
   "execution_count": 34,
   "id": "d41155aa-7618-4e96-87c5-567971954921",
   "metadata": {},
   "outputs": [],
   "source": [
    "loader = CSVLoader(file_path=\"./data/kbank-loan-products.csv\")\n",
    "\n",
    "data = loader.load()"
   ]
  },
  {
   "cell_type": "code",
   "execution_count": 35,
   "id": "0ead9a2d-8733-41b5-bf34-ef177328f048",
   "metadata": {},
   "outputs": [
    {
     "data": {
      "text/plain": [
       "3"
      ]
     },
     "execution_count": 35,
     "metadata": {},
     "output_type": "execute_result"
    }
   ],
   "source": [
    "len(data)"
   ]
  },
  {
   "cell_type": "code",
   "execution_count": 36,
   "id": "ade348b8-1321-495f-91c7-2d6e69522fb7",
   "metadata": {},
   "outputs": [
    {
     "name": "stdout",
     "output_type": "stream",
     "text": [
      "[Document(page_content='Product Name: สินเชื่อเงินด่วน\\nคำอธิบาย: กู้เงินด่วน เงินก้อนทันใจ กู้ง่าย อนุมัติไว ได้เงินทันที\\nจุดเด่น: รู้ผลอนุมัติไวสุดใน 15 นาที - 1 วันทำการ อนุมัติปุ๊บโอนเงินเข้าบัญชีให้ทันที เมื่อสมัครผ่าน G-BANK App อาชีพอิสระ ไม่ได้เป็นพนักงานเงินเดือนก็สมัครได้\\nวงเงินสูงสุด: สูงสุด 5 เท่าของรายได้ เช่น วงเงิน 37,500 บาท สำหรับพนักงานรายได้ 7,500 บาทต่อเดือน\\nระยะเวลาอนุมัติ: 15 นาที - 1 วันทำการ\\nได้รับเงินภายใน: เงินเข้าบัญชีให้ทันที เมื่อสมัครผ่าน G-BANK App ตั้งแต่เวลา 09.00 – 19.30 น. ของทุกวัน\\nอัตราดอกเบี้ยต่อปี: 17% - 25%\\nค่าธรรมเนียม: ไม่มี\\nรูปแบบการชำระ การผ่อน: ผ่อนชำระรายเดือน อัตราดอกเบี้ยลดต้น ลดดอก\\nช่องทางการสมัคร: G-BANK App หรือ สาขา\\nเอกสารแสดงตัว: สมัครผ่าน G-BANK App ไม่ต้องใช้เอกสาร หรือ\\nสำเนาบัตรประชาชน หรือ\\nสำเนาบัตรประจำตัวข้าราชการ หรือ รัฐวิสาหกิจ (ต้องแนบสำเนาทะเบียนบ้านประกอบด้วย)\\nเอกสารแสดงรายได้: สลิปเงินเดือน', metadata={'source': './data/kbank-loan-products.csv', 'row': 0}), Document(page_content='Product Name: บัตรเงินด่วน\\nคำอธิบาย: สินเชื่อบัตรเงินด่วน วงเงินอนุมัติสูง สินเชื่อเงินสด บัตรกดเงินสด บัตรผ่อนสินค้า รูดแทนเงินสด\\nจุดเด่น: บัตรกดเงินสุด สมัครง่าย ใช้บัตรประชาชนใบเดียว กู้ง่าย ไม่ต้องค้ำประกัน\\nวงเงินสูงสุด: สูงสุด 5 เท่าของรายได้ เช่น วงเงิน 37,500 บาท สำหรับพนักงานรายได้ 7,500 บาทต่อเดือน\\nระยะเวลาอนุมัติ: 15 นาที - 1 วันทำการ\\nได้รับเงินภายใน: เงินโอนเข้าบัญชีไวสุดใน 2 วันทำการ\\nอัตราดอกเบี้ยต่อปี: 18% - 25%\\nค่าธรรมเนียม: ไม่มี\\nรูปแบบการชำระ การผ่อน: ผ่อนชำระรายเดือน อัตราดอกเบี้ยลดต้น ลดดอก\\nช่องทางการสมัคร: G-BANK App หรือ สาขา\\nเอกสารแสดงตัว: สมัครผ่าน G-BANK App ไม่ต้องใช้เอกสาร หรือ\\nสำเนาบัตรประชาชน หรือ\\nสำเนาบัตรประจำตัวข้าราชการ หรือ รัฐวิสาหกิจ (ต้องแนบสำเนาทะเบียนบ้านประกอบด้วย)\\nเอกสารแสดงรายได้: สลิปเงินเดือน', metadata={'source': './data/kbank-loan-products.csv', 'row': 1}), Document(page_content='Product Name: สินเชื่อส่วนบุคคล Pay Later\\nคำอธิบาย: สินเชื่อบุคคลดิจิทัล ที่เป็นสินเชื่อบุคคลหมุนเวียน แบบไม่มีหลักประกัน และเป็นสินเชื่อส่วนบุคคล วัตถุประสงค์เพื่อใช้จ่ายอปโภคบริโภคตามความต้องการส่วนบุคคล\\nจุดเด่น: กู้ซื้อของง่าย ไม่ดูรายได้ ไม่ใช้เอกสาร สมัครง่ายผ่าน G-BANK App\\nวงเงินสูงสุด: สูงสุดไม่เกิน 20,000 บาท\\nระยะเวลาอนุมัติ: 3 นาที\\nได้รับเงินภายใน: ใช้ได้ทันทีกับร้านค้าที่เข้าร่วม\\nอัตราดอกเบี้ยต่อปี: สูงสุดไม่เกิน 25%\\nค่าธรรมเนียม: ไม่มี\\nรูปแบบการชำระ การผ่อน: จ่ายคืนผ่าน G-BANK App ภายในวันสุดท้ายของเดือน อัตราดอกเบี้ยลดต้น ลดดอก\\nช่องทางการสมัคร: G-BANK App ได้ทุกวัน\\nเอกสารแสดงตัว: มีแอป G-BANK App และ บัญชีออมทรัพย์\\nเอกสารแสดงรายได้: ไม่ต้องใช้เอกสารแสดงรายได้', metadata={'source': './data/kbank-loan-products.csv', 'row': 2})]\n"
     ]
    }
   ],
   "source": [
    "print(data)"
   ]
  },
  {
   "cell_type": "code",
   "execution_count": 37,
   "id": "2e72936c-dff7-4f87-8b03-de87e05562c1",
   "metadata": {},
   "outputs": [
    {
     "name": "stdout",
     "output_type": "stream",
     "text": [
      "Waiting\n"
     ]
    }
   ],
   "source": [
    "# Store docs in local vectorstore as index\n",
    "# it may take a while since API is rate limited\n",
    "from langchain.vectorstores import Chroma\n",
    "\n",
    "db = Chroma.from_documents(data, embeddings)"
   ]
  },
  {
   "cell_type": "code",
   "execution_count": 20,
   "id": "e6ef3c0c-c1ca-4964-9716-f1dfd01193e7",
   "metadata": {},
   "outputs": [],
   "source": [
    "# Expose index to the retriever\n",
    "retriever = db.as_retriever(search_type=\"similarity\", search_kwargs={\"k\": 3})"
   ]
  },
  {
   "cell_type": "code",
   "execution_count": 14,
   "id": "b3288399-e73b-47b2-89da-7e0dfc169436",
   "metadata": {},
   "outputs": [],
   "source": [
    "# Create chain to answer questions\n",
    "from langchain.chains import RetrievalQA\n",
    "\n",
    "# Uses LLM to synthesize results from the search index.\n",
    "# We use Vertex PaLM Text API for LLM\n",
    "qa = RetrievalQA.from_chain_type(\n",
    "    llm=llm, chain_type=\"stuff\", retriever=retriever, return_source_documents=True\n",
    ")"
   ]
  },
  {
   "cell_type": "code",
   "execution_count": 23,
   "id": "f942dfdd-d4a0-401f-a4d5-db2130672a2b",
   "metadata": {},
   "outputs": [
    {
     "name": "stdout",
     "output_type": "stream",
     "text": [
      "{'query': 'เป็นพนักงานประจำแนะนำสินเชื่อตัวไหน?', 'result': 'สินเชื่อเงินด่วนเพื่อธุรกิจ แบบผ่อนระยะยาวเพื่อธุรกิจ', 'source_documents': [Document(page_content='Product Name: สินเชื่อเงินด่วนเพื่อธุรกิจ แบบผ่อนระยะยาวเพื่อธุรกิจ (Loan)\\nคำอธิบาย: สินเชื่อเงินด่วนเพื่อธุรกิจ แบบผ่อนระยะยาวเพื่อธุรกิจ\\nจุดเด่น: เงินก่อนโอนเข้าบัญชี ดอกเบี้ยลดต้นลดดอก\\nปิดวงเงินก่อนได้ ไม่มีค่าธรรมเนียม\\nวงเงินสูงสุด: 20,000 - 1,000,000 บาท\\nระยะเวลาอนุมัติ: 5 นาที\\nได้รับเงินภายใน: เงินโอนเข้าบัญชีออมทรัพย์ที่เลือกไว้ทันทีหลังอนุมัติ\\nอัตราดอกเบี้ยต่อปี: คงที่สูงสุดไม่เกิน 25% ต่อปี\\nค่าธรรมเนียม: มีค่าธรรมเนียมรายปี\\nมีค่าอากรแสดมป์\\nค่าธรรมเนียมการจัดการให้กู้\\nรูปแบบการชำระ การผ่อน: ผ่อนเท่ากันทุกเดือน\\nระยะเวลาผ่อนชำระสูงสุด 5 ปี\\nช่องทางการสมัคร: G-BANK App หรือ สาขา\\nเอกสารแสดงตัว: บัตรประจำตัวประชาชน บัญชีเงินฝากธนาคาร\\nเอกสารแสดงรายได้: กรณี มีบัญชีกับธนาคาร และเดินบัญชีขั้นต่ำ 6 เดือนขึ้นไป ไม่จำเป็นต้องยื่นเอกสารเพิ่มเติม\\nกรณี เป็นลูกค้าใหม่ (มีบัญชีกับธนาคารน้อยกว่า 6 เดือน) หรือ อยากแสดงรายได้เพิ่มเติม ให้เตรียมภาพถ่ายสมุดบัญชีธนาคารอื่นๆ และรายการเดินบัญชีของ สมุดบัญชีเล่มนั้นๆ โดยต้องมีรายการเดินบัญชีย้อนหลัง 6 เดือนขึ้นไป', metadata={'source': './data/kbank-loan-products.csv', 'row': 3})]}\n"
     ]
    }
   ],
   "source": [
    "query = \"เป็นพนักงานประจำแนะนำสินเชื่อตัวไหน?\"\n",
    "result = qa({\"query\": query})\n",
    "print(result)"
   ]
  },
  {
   "cell_type": "code",
   "execution_count": 24,
   "id": "bca12dd2-07b7-4053-9c7d-3d17be5686a6",
   "metadata": {},
   "outputs": [
    {
     "name": "stdout",
     "output_type": "stream",
     "text": [
      "Waiting\n"
     ]
    }
   ],
   "source": [
    "from langchain.vectorstores import FAISS\n",
    "\n",
    "# Embed your texts\n",
    "db = FAISS.from_documents(data, embeddings)\n",
    "\n",
    "# Init your retriever. Asking for just 1 document back\n",
    "retriever = db.as_retriever()"
   ]
  },
  {
   "cell_type": "code",
   "execution_count": 25,
   "id": "4d39e10f-1e13-4356-be86-774580bfaadc",
   "metadata": {},
   "outputs": [],
   "source": [
    "docs = retriever.get_relevant_documents(\n",
    "    \"เป็นพนักงานประจำ อยากได้เงินสดด่วนครับ\"\n",
    ")"
   ]
  },
  {
   "cell_type": "code",
   "execution_count": 26,
   "id": "676603a3-ad87-44a7-8f04-2dc8cccd2253",
   "metadata": {},
   "outputs": [
    {
     "name": "stdout",
     "output_type": "stream",
     "text": [
      "Product Name: สินเชื่อเงินด่วนเพื่อธุรกิจ แบบผ่อนระยะยาวเพื่อธุรกิจ (Loan)\n",
      "คำอธิบาย: สินเชื่อเงินด่วนเพื่อธุรกิจ แบบผ่อนระยะยาวเพื่อธุรกิจ\n",
      "จุดเด่น: เงินก่อนโอนเข้าบัญชี ดอกเบี้ยลดต้นลดดอก\n",
      "ปิดวงเงินก่อ\n",
      "\n",
      "Product Name: สินเชื่อเงินด่วนเพื่อธุรกิจ แบบใช้หมุนเวียนเพื่อธุรกิจ (OD)\n",
      "คำอธิบาย: สินเชื่อเงินด่วนเพื่อธุรกิจ แบบใช้หมุนเวียนเพื่อธุรกิจ\n",
      "จุดเด่น: เสียดอกเบี้ยเฉพาะวงเงินที่เบิกใช้\n",
      "วงเงินสูงสุด: 20,0\n"
     ]
    }
   ],
   "source": [
    "print(\"\\n\\n\".join([x.page_content[:200] for x in docs[:2]]))"
   ]
  },
  {
   "cell_type": "code",
   "execution_count": 27,
   "id": "fd3bab4c-25e0-49d3-ae96-dd0e3fd8e99f",
   "metadata": {},
   "outputs": [
    {
     "name": "stdout",
     "output_type": "stream",
     "text": [
      "Product Name: สินเชื่อเงินด่วนเพื่อธุรกิจ แบบผ่อนระยะยาวเพื่อธุรกิจ (Loan)\n",
      "คำอธิบาย: สินเชื่อเงินด่วนเพื่อธุรกิจ แบบผ่อนระยะยาวเพื่อธุรกิจ\n",
      "จุดเด่น: เงินก่อนโอนเข้าบัญชี ดอกเบี้ยลดต้นลดดอก\n",
      "ปิดวงเงินก่อ\n",
      "\n",
      "Product Name: สินเชื่อเงินด่วนเพื่อธุรกิจ แบบใช้หมุนเวียนเพื่อธุรกิจ (OD)\n",
      "คำอธิบาย: สินเชื่อเงินด่วนเพื่อธุรกิจ แบบใช้หมุนเวียนเพื่อธุรกิจ\n",
      "จุดเด่น: เสียดอกเบี้ยเฉพาะวงเงินที่เบิกใช้\n",
      "วงเงินสูงสุด: 20,0\n",
      "\n",
      "Product Name: บัตรเงินด่วน\n",
      "คำอธิบาย: สินเชื่อบัตรเงินด่วน วงเงินอนุมัติสูง สินเชื่อเงินสด บัตรกดเงินสด บัตรผ่อนสินค้า รูดแทนเงินสด\n",
      "จุดเด่น: บัตรกดเงินสุด สมัครง่าย ใช้บัตรประชาชนใบเดียว กู้ง่าย ไม่ต้อ\n",
      "\n",
      "Product Name: สินเชื่อเงินด่วน\n",
      "คำอธิบาย: กู้เงินด่วน เงินก้อนทันใจ กู้ง่าย อนุมัติไว ได้เงินทันที\n",
      "จุดเด่น: รู้ผลอนุมัติไวสุดใน 15 นาที - 1 วันทำการ อนุมัติปุ๊บโอนเงินเข้าบัญชีให้ทันที เมื่อสมัครผ่าน G\n"
     ]
    }
   ],
   "source": [
    "print(\"\\n\\n\".join([x.page_content[:200] for x in docs]))"
   ]
  },
  {
   "cell_type": "code",
   "execution_count": null,
   "id": "447fc553-306c-4c13-b6a7-8f46d2285fd9",
   "metadata": {},
   "outputs": [],
   "source": []
  }
 ],
 "metadata": {
  "environment": {
   "kernel": "conda-root-py",
   "name": "workbench-notebooks.m111",
   "type": "gcloud",
   "uri": "gcr.io/deeplearning-platform-release/workbench-notebooks:m111"
  },
  "kernelspec": {
   "display_name": "Python 3",
   "language": "python",
   "name": "conda-root-py"
  },
  "language_info": {
   "codemirror_mode": {
    "name": "ipython",
    "version": 3
   },
   "file_extension": ".py",
   "mimetype": "text/x-python",
   "name": "python",
   "nbconvert_exporter": "python",
   "pygments_lexer": "ipython3",
   "version": "3.10.12"
  }
 },
 "nbformat": 4,
 "nbformat_minor": 5
}
